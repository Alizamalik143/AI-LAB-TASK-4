{
 "cells": [
  {
   "cell_type": "code",
   "execution_count": 1,
   "id": "126d680d",
   "metadata": {},
   "outputs": [
    {
     "name": "stdout",
     "output_type": "stream",
     "text": [
      "Card Number: 4539 1488 0343 6467\n",
      "Result:  This is a VALID card number (passes the Luhn check).\n"
     ]
    }
   ],
   "source": [
    "def luhn_algorithm(card_number):\n",
    "    \n",
    "\n",
    "    card_number = card_number.replace(\" \", \"\")\n",
    "    reversed_digits = card_number[::-1]\n",
    "    \n",
    "    total_sum = 0   \n",
    "    for index, digit in enumerate(reversed_digits):\n",
    "        number = int(digit)   \n",
    "        if index % 2 == 1:    \n",
    "            number *= 2       \n",
    "            if number > 9:    \n",
    "                number -= 9\n",
    "        \n",
    "        total_sum += number  \n",
    "    \n",
    "    return total_sum % 10 == 0\n",
    "\n",
    "\n",
    "\n",
    "card = \"4539 1488 0343 6467\"\n",
    "\n",
    "if luhn_algorithm(card):\n",
    "    print(f\"Card Number: {card}\")\n",
    "    print(\"Result:  This is a VALID card number (passes the Luhn check).\")\n",
    "else:\n",
    "    print(f\"Card Number: {card}\")\n",
    "    print(\"Result:  This is an INVALID card number (fails the Luhn check).\")"
   ]
  },
  {
   "cell_type": "code",
   "execution_count": 3,
   "id": "e7f94b98",
   "metadata": {},
   "outputs": [
    {
     "name": "stdout",
     "output_type": "stream",
     "text": [
      "Hello my self Aliza How are you doing\n"
     ]
    }
   ],
   "source": [
    "import string \n",
    "def remove_punctuations(text):\n",
    "    no_punctuations=\"\"\n",
    "    for char in text:\n",
    "        if char not in string.punctuation:\n",
    "            no_punctuations+=char\n",
    "    return no_punctuations\n",
    "\n",
    "sentence=\"Hello!! my self Aliza, How are you doing?\"\n",
    "print(remove_punctuations(sentence))"
   ]
  },
  {
   "cell_type": "code",
   "execution_count": 6,
   "id": "1a1bf57d",
   "metadata": {},
   "outputs": [
    {
     "name": "stdout",
     "output_type": "stream",
     "text": [
      "a is language programing python\n"
     ]
    }
   ],
   "source": [
    "def sort_sentence(sentence):\n",
    "    words = sentence.split()\n",
    "    words.sort()\n",
    "    return \" \".join(words)\n",
    "\n",
    "sentence = \"python is a programing language\"\n",
    "print(sort_sentence(sentence))\n"
   ]
  },
  {
   "cell_type": "code",
   "execution_count": null,
   "id": "e6625fdf",
   "metadata": {},
   "outputs": [],
   "source": []
  }
 ],
 "metadata": {
  "kernelspec": {
   "display_name": "base",
   "language": "python",
   "name": "python3"
  },
  "language_info": {
   "codemirror_mode": {
    "name": "ipython",
    "version": 3
   },
   "file_extension": ".py",
   "mimetype": "text/x-python",
   "name": "python",
   "nbconvert_exporter": "python",
   "pygments_lexer": "ipython3",
   "version": "3.12.4"
  }
 },
 "nbformat": 4,
 "nbformat_minor": 5
}
