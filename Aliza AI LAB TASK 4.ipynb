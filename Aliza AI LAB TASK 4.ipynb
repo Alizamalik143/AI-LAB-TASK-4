{
 "cells": [
  {
   "cell_type": "code",
   "execution_count": 1,
   "id": "5ce527c6",
   "metadata": {},
   "outputs": [
    {
     "name": "stdout",
     "output_type": "stream",
     "text": [
      "True\n",
      "False\n"
     ]
    }
   ],
   "source": [
    "def check_card(number):\n",
    "    rev = number[::-1]\n",
    "    seq = []\n",
    "    for x in rev:\n",
    "        seq.append(int(x))\n",
    "    for i in range(1, len(seq), 2):\n",
    "        seq[i] = seq[i] * 2\n",
    "        if seq[i] > 9:\n",
    "            seq[i] = seq[i] - 9\n",
    "    total = sum(seq)\n",
    "    return total % 10 == 0\n",
    "\n",
    "print(check_card(\"4532015112830366\"))\n",
    "print(check_card(\"1234567890123456\"))\n"
   ]
  },
  {
   "cell_type": "code",
   "execution_count": 2,
   "id": "fd1768ff",
   "metadata": {},
   "outputs": [
    {
     "name": "stdout",
     "output_type": "stream",
     "text": [
      "Hello I am Aliza Malik from Lahore\n"
     ]
    }
   ],
   "source": [
    "def clean_string(line):\n",
    "    result = \"\"\n",
    "    for ch in line:\n",
    "        if ch.isalnum() or ch == \" \":\n",
    "            result += ch\n",
    "    return result\n",
    "\n",
    "text = \"Hello I am Aliza Malik from Lahore!!!\"\n",
    "print(clean_string(text))\n"
   ]
  },
  {
   "cell_type": "code",
   "execution_count": 4,
   "id": "1a1bf57d",
   "metadata": {},
   "outputs": [
    {
     "name": "stdout",
     "output_type": "stream",
     "text": [
      "a is program python simple this\n"
     ]
    }
   ],
   "source": [
    "def sort_alpha(sentence):\n",
    "    parts = sentence.split()\n",
    "    parts = sorted(parts)\n",
    "    return \" \".join(parts)\n",
    "\n",
    "s = \"this is a simple python program\"\n",
    "print(sort_alpha(s))\n"
   ]
  },
  {
   "cell_type": "code",
   "execution_count": null,
   "id": "e6625fdf",
   "metadata": {},
   "outputs": [],
   "source": []
  }
 ],
 "metadata": {
  "kernelspec": {
   "display_name": "base",
   "language": "python",
   "name": "python3"
  },
  "language_info": {
   "codemirror_mode": {
    "name": "ipython",
    "version": 3
   },
   "file_extension": ".py",
   "mimetype": "text/x-python",
   "name": "python",
   "nbconvert_exporter": "python",
   "pygments_lexer": "ipython3",
   "version": "3.12.4"
  }
 },
 "nbformat": 4,
 "nbformat_minor": 5
}
